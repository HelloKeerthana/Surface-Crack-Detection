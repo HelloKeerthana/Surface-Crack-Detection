{
 "cells": [
  {
   "cell_type": "code",
   "execution_count": 1,
   "id": "09e968d0",
   "metadata": {},
   "outputs": [],
   "source": [
    "import numpy as np\n",
    "import pandas as pd"
   ]
  },
  {
   "cell_type": "code",
   "execution_count": 2,
   "id": "724438c9",
   "metadata": {},
   "outputs": [],
   "source": [
    "import os\n",
    "import cv2\n",
    "import matplotlib.pyplot as plt"
   ]
  },
  {
   "cell_type": "code",
   "execution_count": 3,
   "id": "b76d487b",
   "metadata": {},
   "outputs": [
    {
     "name": "stdout",
     "output_type": "stream",
     "text": [
      "POSITIVE: Found 20000 images\n",
      "NEGATIVE: Found 20000 images\n"
     ]
    }
   ],
   "source": [
    "dataset_path = 'C:\\\\Users\\\\satya\\\\OneDrive\\\\Desktop\\\\keerthana\\\\DL_APSAC\\\\kaggle_crack_dataset'\n",
    "\n",
    "for label in ['positive', 'negative']:\n",
    "    folder = os.path.join(dataset_path, label)\n",
    "    image_files = os.listdir(folder)\n",
    "\n",
    "    print(f\"{label.upper()}: Found {len(image_files)} images\")\n"
   ]
  },
  {
   "cell_type": "code",
   "execution_count": 4,
   "id": "8e7d853a",
   "metadata": {},
   "outputs": [],
   "source": [
    "def load_dataset(dataset_path, img_size=(128,128)):\n",
    "    data = []\n",
    "    labels = []\n",
    "    for label in ['positive', 'negative']:\n",
    "        folder = os.path.join(dataset_path, label)\n",
    "        for img_name in os.listdir(folder):\n",
    "            img_path = os.path.join(folder, img_name)\n",
    "            img = cv2.imread(img_path, cv2.IMREAD_GRAYSCALE)\n",
    "            img = cv2.resize(img, img_size)\n",
    "            data.append(img)\n",
    "            labels.append(1 if label == 'posiive' else 0)\n",
    "    return np.array(data), np.array(labels)"
   ]
  },
  {
   "cell_type": "code",
   "execution_count": 5,
   "id": "2a4373a2",
   "metadata": {},
   "outputs": [
    {
     "data": {
      "text/plain": [
       "((40000, 128, 128), (40000,))"
      ]
     },
     "execution_count": 5,
     "metadata": {},
     "output_type": "execute_result"
    }
   ],
   "source": [
    "X,y = load_dataset(dataset_path)\n",
    "X.shape, y.shape"
   ]
  },
  {
   "cell_type": "code",
   "execution_count": 6,
   "id": "702da911",
   "metadata": {},
   "outputs": [],
   "source": [
    "from skimage.filters import gabor\n",
    "import numpy as np\n",
    "\n",
    "def extract_gabor_features(images):\n",
    "    gabor_feats = []\n",
    "    for img in images:\n",
    "        feat, _ = gabor(img, frequency=0.6)\n",
    "        gabor_feats.append(feat.flatten()) \n",
    "    return np.array(gabor_feats)"
   ]
  },
  {
   "cell_type": "code",
   "execution_count": 7,
   "id": "956eecb1",
   "metadata": {},
   "outputs": [
    {
     "name": "stdout",
     "output_type": "stream",
     "text": [
      "gabor shape :  (40000, 16384)\n"
     ]
    }
   ],
   "source": [
    "gabor_features = extract_gabor_features(X)\n",
    "print('gabor shape : ', gabor_features.shape)"
   ]
  },
  {
   "cell_type": "code",
   "execution_count": 8,
   "id": "38abceba",
   "metadata": {},
   "outputs": [],
   "source": [
    "from skimage.feature import local_binary_pattern\n",
    "\n",
    "def extract_lbp_features(images):\n",
    "    lbp_feats = []\n",
    "    for img in images:\n",
    "        lbp = local_binary_pattern(img, \n",
    "                                   P=8,\n",
    "                                   R=1,\n",
    "                                   method='uniform')\n",
    "        hist,_ = np.histogram(lbp.ravel(),\n",
    "                              bins=59,\n",
    "                              range=(0,59))\n",
    "        hist = hist.astype(\"float\")\n",
    "        hist /=(hist.sum() + 1e-7)\n",
    "        lbp_feats.append(hist)\n",
    "    return np.array(lbp_feats)"
   ]
  },
  {
   "cell_type": "code",
   "execution_count": 9,
   "id": "2b90b6c2",
   "metadata": {},
   "outputs": [
    {
     "name": "stdout",
     "output_type": "stream",
     "text": [
      "LBP shape :  (40000, 59)\n"
     ]
    }
   ],
   "source": [
    "lbp_features = extract_lbp_features(X)\n",
    "print('LBP shape : ', lbp_features.shape)"
   ]
  },
  {
   "cell_type": "code",
   "execution_count": null,
   "id": "dfeef0d7",
   "metadata": {},
   "outputs": [
    {
     "name": "stdout",
     "output_type": "stream",
     "text": [
      "              precision    recall  f1-score   support\n",
      "\n",
      "           0       1.00      1.00      1.00      8000\n",
      "\n",
      "    accuracy                           1.00      8000\n",
      "   macro avg       1.00      1.00      1.00      8000\n",
      "weighted avg       1.00      1.00      1.00      8000\n",
      "\n"
     ]
    }
   ],
   "source": [
    "from sklearn.model_selection import train_test_split \n",
    "from sklearn.ensemble import RandomForestClassifier\n",
    "from sklearn.metrics import classification_report \n",
    "\n",
    "X_train,X_test,y_train,y_test = train_test_split(gabor_features,\n",
    "                                                 y,\n",
    "                                                 test_size=0.2,\n",
    "                                                 random_state=42)\n",
    "\n",
    "clf = RandomForestClassifier()\n",
    "clf.fit(X_train, y_train)\n",
    "y_pred = clf.predict(X_test)\n",
    "print(classification_report(y_test, y_pred))\n"
   ]
  },
  {
   "cell_type": "code",
   "execution_count": 11,
   "id": "27d8d825",
   "metadata": {},
   "outputs": [
    {
     "name": "stdout",
     "output_type": "stream",
     "text": [
      "              precision    recall  f1-score   support\n",
      "\n",
      "           0       1.00      1.00      1.00      8000\n",
      "\n",
      "    accuracy                           1.00      8000\n",
      "   macro avg       1.00      1.00      1.00      8000\n",
      "weighted avg       1.00      1.00      1.00      8000\n",
      "\n"
     ]
    }
   ],
   "source": [
    "from sklearn.model_selection import train_test_split \n",
    "from sklearn.ensemble import RandomForestClassifier\n",
    "from sklearn.metrics import classification_report \n",
    "\n",
    "X_train,X_test,y_train,y_test = train_test_split(lbp_features,\n",
    "                                                 y,\n",
    "                                                 test_size=0.2,\n",
    "                                                 random_state=42)\n",
    "\n",
    "clf = RandomForestClassifier()\n",
    "clf.fit(X_train, y_train)\n",
    "y_pred = clf.predict(X_test)\n",
    "print(classification_report(y_test, y_pred))\n"
   ]
  },
  {
   "cell_type": "code",
   "execution_count": 15,
   "id": "57480e30",
   "metadata": {},
   "outputs": [],
   "source": [
    "import pickle\n",
    "\n",
    "with open('rf_model.pkl', 'wb') as f:\n",
    "    pickle.dump(clf, f)"
   ]
  },
  {
   "cell_type": "code",
   "execution_count": 12,
   "id": "1f3da831",
   "metadata": {},
   "outputs": [],
   "source": [
    "# from tensorflow.keras.models import Sequential \n",
    "# from tensorflow.keras.layers import Conv2D, MaxPooling2D, Flatten, Dense \n",
    "# from sklearn.model_selection import train_test_split\n",
    "\n",
    "# X_cnn = X.reshape(-1, 128,128, 1)/255.0 #normalize\n",
    "# X_train, X_test, y_train, y_test = train_test_split(X_cnn,\n",
    "#                                                     y,\n",
    "#                                                     test_size=0.2,\n",
    "#                                                     random_state=42)\n",
    "\n",
    "# model = Sequential([\n",
    "#     Conv2D(32, (3,3), activation='relu', input_shape=(128,128,1)),\n",
    "#     MaxPooling2D(),\n",
    "#     Conv2D(64, (3,3), activation='relu'),\n",
    "#     MaxPooling2D(),\n",
    "#     Flatten(),\n",
    "#     Dense(128, activation='relu'),\n",
    "#     Dense(1, activation='sigmoid')\n",
    "# ])\n",
    "\n",
    "# model.compile(optimizer='adam',\n",
    "#               loss='binary_crossentropy', \n",
    "#               metrics=['accuracy'])\n",
    "\n",
    "# model.fit(X_train, y_train, epochs=5, batch_size=32, validation_data=(X_test, y_test))"
   ]
  },
  {
   "cell_type": "code",
   "execution_count": null,
   "id": "ed019ee0",
   "metadata": {},
   "outputs": [],
   "source": []
  }
 ],
 "metadata": {
  "kernelspec": {
   "display_name": "Python 3",
   "language": "python",
   "name": "python3"
  },
  "language_info": {
   "codemirror_mode": {
    "name": "ipython",
    "version": 3
   },
   "file_extension": ".py",
   "mimetype": "text/x-python",
   "name": "python",
   "nbconvert_exporter": "python",
   "pygments_lexer": "ipython3",
   "version": "3.10.0"
  }
 },
 "nbformat": 4,
 "nbformat_minor": 5
}
